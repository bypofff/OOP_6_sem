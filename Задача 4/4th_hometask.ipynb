{
 "cells": [
  {
   "cell_type": "markdown",
   "metadata": {},
   "source": [
    "# Функциональные пространства"
   ]
  },
  {
   "cell_type": "markdown",
   "metadata": {},
   "source": [
    "### Определение классов"
   ]
  },
  {
   "cell_type": "code",
   "execution_count": 1,
   "metadata": {},
   "outputs": [],
   "source": [
    "import numpy as np"
   ]
  },
  {
   "cell_type": "code",
   "execution_count": 2,
   "metadata": {},
   "outputs": [],
   "source": [
    "# Создаём класс для определения пространства С_0\n",
    "class Space_c0:\n",
    "    \n",
    "    def __init__(self, a, b):\n",
    "        self.a = a\n",
    "        self.b = b\n",
    "        \n",
    "    \n",
    "    def CalculateMaxFunctionValue(self, f):\n",
    "        sample = np.linspace(self.a, self.b, 1000)\n",
    "        values = np.abs(f(sample))\n",
    "        return values.max()\n",
    "    \n",
    "    # функция вычисления нормы пространства C_0\n",
    "    def CalculateSpaceNorm(self, f):\n",
    "        return self.CalculateMaxFunctionValue(f)\n",
    "    \n",
    "    # функция вычисления метрики пространства C_0\n",
    "    def CalculateSpaceMetric(self, f1, f2):\n",
    "        l = lambda x: f1(x) - f2(x)\n",
    "        return self.CalculateSpaceNorm(l)    "
   ]
  },
  {
   "cell_type": "markdown",
   "metadata": {},
   "source": [
    "#### Копирую классы(основной и дочерний для формулы центральной разности) из 2-й задачи"
   ]
  },
  {
   "cell_type": "code",
   "execution_count": 3,
   "metadata": {},
   "outputs": [],
   "source": [
    "class DerivativeNumMain:\n",
    "    # конструктор\n",
    "    def __init__(self, f, h = 1e-3):\n",
    "        self.f = f\n",
    "        self.h = float(h)\n",
    "        \n",
    "    # задаём коэффициенты альфа    \n",
    "    def SetAlpha(self, alpha):\n",
    "        self._alpha = alpha\n",
    "    \n",
    "    # метод вызова\n",
    "    def __call__(self, x):\n",
    "        f, h, alpha = self.f, self.h, self._alpha\n",
    "        res = 0\n",
    "        \n",
    "        for i in range(len(alpha)):\n",
    "            \n",
    "            res = res + alpha[i] * (f(x + (i + 1) * h) - f(x - (i + 1) * h)) / h\n",
    "            \n",
    "        return res\n",
    "\n",
    "# переименовал класс DerivativeNum4 чтобы не смущала нумерация, которая\n",
    "# уже не актуальна\n",
    "class DerivativeCenter(DerivativeNumMain):\n",
    "    \n",
    "    # переопределяем метод вызова\n",
    "    def __call__(self, x):\n",
    "        f, h = self.f, self.h\n",
    "        \n",
    "        return (f(x + h) - f(x - h)) / (2 * h)"
   ]
  },
  {
   "cell_type": "code",
   "execution_count": 4,
   "metadata": {},
   "outputs": [],
   "source": [
    "# Создаём класс для определения пространства С_1\n",
    "class Space_c1(Space_c0):\n",
    "    \n",
    "    # функция вычисления нормы пространства C_1\n",
    "    def CalculateSpaceNorm(self, f):\n",
    "        return super().CalculateSpaceNorm(f) + self.CalculateMaxFunctionValue(DerivativeCenter(f))    "
   ]
  },
  {
   "cell_type": "code",
   "execution_count": 5,
   "metadata": {},
   "outputs": [],
   "source": [
    "# Создаём класс для определения пространства С_2\n",
    "class Space_c2(Space_c0):\n",
    "    \n",
    "    # функция вычисления нормы пространства C_2\n",
    "    def CalculateSpaceNorm(self, f):\n",
    "        return super().CalculateSpaceNorm(f) + self.CalculateMaxFunctionValue(DerivativeCenter(DerivativeCenter(f)))   "
   ]
  },
  {
   "cell_type": "markdown",
   "metadata": {},
   "source": [
    "### Использование классов"
   ]
  },
  {
   "cell_type": "code",
   "execution_count": 6,
   "metadata": {},
   "outputs": [],
   "source": [
    "# создаём список тестирующих функций\n",
    "test_functions = list()\n",
    "test_functions.append(lambda t: 5./(2 + 3*(t**2)))\n",
    "test_functions.append(lambda t: 2./(5 + np.cos(t)))\n",
    "test_functions.append(lambda t: (3. + 4.*(t**2))**(1./3))\n",
    "test_functions.append(lambda t: 2.*np.exp(-(t**2))/(np.pi)**(0.5))"
   ]
  },
  {
   "cell_type": "code",
   "execution_count": 7,
   "metadata": {},
   "outputs": [
    {
     "name": "stdout",
     "output_type": "stream",
     "text": [
      "Расстояние между функциями №0 и №1: 2.1666666666666665\n",
      "Норма функции №0 : 2.5\n",
      "\n",
      "Расстояние между функциями №1 и №2: 2.2320874980100425\n",
      "Норма функции №1 : 0.4363141507119022\n",
      "\n",
      "Расстояние между функциями №2 и №3: 2.647734663367853\n",
      "Норма функции №2 : 2.668401648721945\n",
      "\n",
      "Норма функции №3 : 1.1283791670955126\n"
     ]
    }
   ],
   "source": [
    "a, b = 0., 2.\n",
    "\n",
    "# в классе С_0[0, 2] вычисляем нормы функций и попарное расстояние\n",
    "# между ними\n",
    "space_C_0 = Space_c0(a, b)\n",
    "\n",
    "for i in range(len(test_functions)):\n",
    "    if i == 0:\n",
    "        next\n",
    "    else:\n",
    "        print('Расстояние между функциями №' + str(i - 1) + ' и №' + \\\n",
    "             str(i) + ': ' + str(space_C_0.CalculateSpaceMetric(test_functions[i - 1], test_functions[i])))\n",
    "        print('Норма функции №' + str(i - 1) + ' : ' + \\\n",
    "              str(space_C_0.CalculateSpaceNorm(test_functions[i - 1])) + '\\n')\n",
    "        \n",
    "        if i + 1 == len(test_functions):\n",
    "            print('Норма функции №' + str(i) + ' : ' + \\\n",
    "              str(space_C_0.CalculateSpaceNorm(test_functions[i])))"
   ]
  },
  {
   "cell_type": "code",
   "execution_count": 8,
   "metadata": {},
   "outputs": [
    {
     "name": "stdout",
     "output_type": "stream",
     "text": [
      "Расстояние между функциями №0 и №1: 4.1816845335266475\n",
      "Норма функции №0 : 4.488729712279924\n",
      "\n",
      "Расстояние между функциями №1 и №2: 2.9216979596827497\n",
      "Норма функции №1 : 0.522990394349631\n",
      "\n",
      "Расстояние между функциями №2 и №3: 4.279453339970131\n",
      "Норма функции №2 : 3.4315444275381175\n",
      "\n",
      "Норма функции №3 : 2.09626110965599\n"
     ]
    }
   ],
   "source": [
    "# в классе С_1[0, 2] вычисляем нормы функций и попарное расстояние\n",
    "# между ними\n",
    "space_C_1 = Space_c1(a, b)\n",
    "\n",
    "for i in range(len(test_functions)):\n",
    "    if i == 0:\n",
    "        next\n",
    "    else:\n",
    "        print('Расстояние между функциями №' + str(i - 1) + ' и №' + \\\n",
    "             str(i) + ': ' + str(space_C_1.CalculateSpaceMetric(test_functions[i - 1], test_functions[i])))\n",
    "        print('Норма функции №' + str(i - 1) + ' : ' + \\\n",
    "              str(space_C_1.CalculateSpaceNorm(test_functions[i - 1])) + '\\n')\n",
    "        \n",
    "        if i + 1 == len(test_functions):\n",
    "            print('Норма функции №' + str(i) + ' : ' + \\\n",
    "              str(space_C_1.CalculateSpaceNorm(test_functions[i])))"
   ]
  },
  {
   "cell_type": "code",
   "execution_count": 9,
   "metadata": {},
   "outputs": [
    {
     "name": "stdout",
     "output_type": "stream",
     "text": [
      "Расстояние между функциями №0 и №1: 9.722177222312405\n",
      "Норма функции №0 : 9.999955000156433\n",
      "\n",
      "Расстояние между функциями №1 и №2: 3.458529281363003\n",
      "Норма функции №1 : 0.4918697062844751\n",
      "\n",
      "Расстояние между функциями №2 и №3: 6.186485822916456\n",
      "Норма функции №2 : 3.950398987675234\n",
      "\n",
      "Норма функции №3 : 3.3851329876908265\n"
     ]
    }
   ],
   "source": [
    "# в классе С_2[0, 2] вычисляем нормы функций и попарное расстояние\n",
    "# между ними\n",
    "space_C_2 = Space_c2(a, b)\n",
    "\n",
    "for i in range(len(test_functions)):\n",
    "    if i == 0:\n",
    "        next\n",
    "    else:\n",
    "        print('Расстояние между функциями №' + str(i - 1) + ' и №' + \\\n",
    "             str(i) + ': ' + str(space_C_2.CalculateSpaceMetric(test_functions[i - 1], test_functions[i])))\n",
    "        print('Норма функции №' + str(i - 1) + ' : ' + \\\n",
    "              str(space_C_2.CalculateSpaceNorm(test_functions[i - 1])) + '\\n')\n",
    "        \n",
    "        if i + 1 == len(test_functions):\n",
    "            print('Норма функции №' + str(i) + ' : ' + \\\n",
    "              str(space_C_2.CalculateSpaceNorm(test_functions[i])))"
   ]
  }
 ],
 "metadata": {
  "kernelspec": {
   "display_name": "Python 3",
   "language": "python",
   "name": "python3"
  },
  "language_info": {
   "codemirror_mode": {
    "name": "ipython",
    "version": 3
   },
   "file_extension": ".py",
   "mimetype": "text/x-python",
   "name": "python",
   "nbconvert_exporter": "python",
   "pygments_lexer": "ipython3",
   "version": "3.7.6"
  }
 },
 "nbformat": 4,
 "nbformat_minor": 4
}
