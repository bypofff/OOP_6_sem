{
 "cells": [
  {
   "cell_type": "markdown",
   "metadata": {},
   "source": [
    "# Задача 5\n",
    "\n",
    "## Численное решение ОДУ"
   ]
  },
  {
   "cell_type": "code",
   "execution_count": 1,
   "metadata": {},
   "outputs": [],
   "source": [
    "import numpy as np\n",
    "import matplotlib.pyplot as plt"
   ]
  },
  {
   "cell_type": "markdown",
   "metadata": {},
   "source": [
    "### Классы производных"
   ]
  },
  {
   "cell_type": "code",
   "execution_count": 2,
   "metadata": {},
   "outputs": [],
   "source": [
    "class DerivativeNumMain:\n",
    "    # конструктор\n",
    "    def __init__(self, f, h):\n",
    "        self.f = f\n",
    "        self.h = h\n",
    "        \n",
    "    # задаём коэффициенты альфа    \n",
    "    def SetAlpha(self, alpha):\n",
    "        self._alpha = alpha\n",
    "    \n",
    "    # метод вызова\n",
    "    def __call__(self, x):\n",
    "        raise NotImplementedError"
   ]
  },
  {
   "cell_type": "code",
   "execution_count": 3,
   "metadata": {},
   "outputs": [],
   "source": [
    "# производная по формуле трапеции\n",
    "class DerivativeTrapecium(DerivativeNumMain):\n",
    "    \n",
    "    # переопределяем метод вызова\n",
    "    def __call__(self, x):\n",
    "        f, h = self.f, self.h\n",
    "        \n",
    "        return (f(x + h) - f(x - h)) / (2 * h)"
   ]
  },
  {
   "cell_type": "markdown",
   "metadata": {},
   "source": [
    "### Определение классов\n",
    "\n",
    "#### Создаём main-класс"
   ]
  },
  {
   "cell_type": "code",
   "execution_count": 4,
   "metadata": {},
   "outputs": [],
   "source": [
    "class MainSolve():\n",
    "    \n",
    "    def __init__(self, f, u_0, num_blocks, t_start, t_end):\n",
    "        self.f = f\n",
    "        self.u_0 = u_0\n",
    "        \n",
    "        self.num_blocks = num_blocks\n",
    "        self.num_points = num_blocks + 1\n",
    "        \n",
    "        self.t_start = float(t_start)\n",
    "        self.t_end = float(t_end)\n",
    "        self.time_arr = np.linspace(t_start, t_end, self.num_points)\n",
    "        self.dt = (t_end - t_start) / self.num_blocks\n",
    "        \n",
    "        self.solution_arr = np.zeros(self.num_points)\n",
    "        \n",
    "        \n",
    "    def solve(self):\n",
    "        self.solution_arr[0] = self.u_0\n",
    "\n",
    "        for i in range(self.num_blocks):\n",
    "            u_old = self.solution_arr[i]                \n",
    "            self.solution_arr[i + 1] = u_old + self.dt * np.dot(self.b, self.k(u_old))\n",
    "\n",
    "            \n",
    "    def k(self, u_i):\n",
    "        k = np.zeros(len(self.b))\n",
    "        k[0] = self.f(u_i)\n",
    "        for i in range(len(k) - 1):\n",
    "            k[i + 1] = self.f(u_i + self.dt * np.dot(self.a[i + 1, :], k))\n",
    "        return k    "
   ]
  },
  {
   "cell_type": "markdown",
   "metadata": {},
   "source": [
    "#### Задаём дочерние классы"
   ]
  },
  {
   "cell_type": "code",
   "execution_count": 5,
   "metadata": {},
   "outputs": [],
   "source": [
    "# метод Эйлера\n",
    "\n",
    "class ExplicitEuler(MainSolve):\n",
    "\n",
    "    def __init__(self, f, u_0, num_blocks, t_start, t_end):\n",
    "        super().__init__(f, u_0, num_blocks, t_start, t_end)\n",
    "        self.a = np.array([0])\n",
    "        self.b = np.array([1])"
   ]
  },
  {
   "cell_type": "code",
   "execution_count": 6,
   "metadata": {},
   "outputs": [],
   "source": [
    "# метод Хойна\n",
    "\n",
    "class Heun(MainSolve):\n",
    "\n",
    "    def __init__(self, f, u_0, num_blocks, t_start, t_end):\n",
    "        super().__init__(f, u_0, num_blocks, t_start, t_end)\n",
    "        self.a = np.array([[0, 0], [1, 0]])\n",
    "        self.b = np.array([1/2, 1/2])"
   ]
  },
  {
   "cell_type": "code",
   "execution_count": 7,
   "metadata": {},
   "outputs": [],
   "source": [
    "# метод Рунге - Кутты\n",
    "\n",
    "class RunKut(MainSolve):\n",
    "    \n",
    "    def __init__(self, f, u_0, num_blocks, t_start, t_end):\n",
    "        super().__init__(f, u_0, num_blocks, t_start, t_end)\n",
    "        self.a = np.array([\n",
    "            [  0,   0,   0,   0],\n",
    "            [1/2,   0,   0,   0],\n",
    "            [  0, 1/2,   0,   0],\n",
    "            [  0,   0,   1,   0]\n",
    "            ])\n",
    "        self.b = np.array([1/6, 1/3, 1/3, 1/6])"
   ]
  },
  {
   "cell_type": "code",
   "execution_count": 8,
   "metadata": {},
   "outputs": [],
   "source": [
    "# метод трапеции\n",
    "\n",
    "class Trapecium(MainSolve):\n",
    "\n",
    "    def solve(self):\n",
    "        self.solution_arr[0] = self.u_0\n",
    "        eps = 1e-3\n",
    "\n",
    "        for i in range(self.num_blocks):\n",
    "            u_old = self.solution_arr[i]\n",
    "\n",
    "            F = lambda u_n: u_n - u_old - self.dt / 2 * (self.f(u_n) + self.f(u_old))\n",
    "            d_num_F = DerivativeTrapecium(F, self.dt)\n",
    "            u_k0 = u_old\n",
    "            u_k1 = u_old + self.dt * self.f(u_old)\n",
    "\n",
    "            while abs(u_k1 - u_k0) > eps:\n",
    "                u_k0 = u_k1\n",
    "                u_k1 = u_k1 - F(u_k1) / d_num_F(u_k1)\n",
    "\n",
    "            self.solution_arr[i + 1] = u_k1"
   ]
  },
  {
   "cell_type": "markdown",
   "metadata": {},
   "source": [
    "### Использование классов"
   ]
  },
  {
   "cell_type": "code",
   "execution_count": 9,
   "metadata": {},
   "outputs": [],
   "source": [
    "alpha = 0.2\n",
    "R = 100.\n",
    "\n",
    "N = 30\n",
    "\n",
    "t_start = 0.\n",
    "t_end = 80.\n",
    "\n",
    "u_0 = 2."
   ]
  },
  {
   "cell_type": "code",
   "execution_count": 10,
   "metadata": {},
   "outputs": [],
   "source": [
    "class LogisticRightHandSide:\n",
    "    \n",
    "    def __init__(self, alpha, R):\n",
    "        self._alpha = float(alpha)\n",
    "        self._R = float(R)\n",
    "    \n",
    "    \n",
    "    def __call__(self, u):\n",
    "        return self._alpha*u*(1. - u/self._R)"
   ]
  },
  {
   "cell_type": "code",
   "execution_count": 11,
   "metadata": {},
   "outputs": [],
   "source": [
    "right_side = LogisticRightHandSide(alpha, R)\n",
    "\n",
    "methods = [ExplicitEuler, Heun, RunKut, Trapecium]"
   ]
  },
  {
   "cell_type": "code",
   "execution_count": 20,
   "metadata": {},
   "outputs": [
    {
     "data": {
      "image/png": "[encoded data removed]",
      "text/plain": [
       "<Figure size 1152x576 with 1 Axes>"
      ]
     },
     "metadata": {
      "needs_background": "light"
     },
     "output_type": "display_data"
    }
   ],
   "source": [
    "plt.figure(figsize=(16,8))\n",
    "plt.title('Population dynamics')\n",
    "\n",
    "for method in methods:\n",
    "    meth = method(right_side, u_0, N, t_start, t_end)\n",
    "    meth.solve()\n",
    "    plt.plot(meth.time_arr, meth.solution_arr, '-o', linewidth=2, label=meth.__class__.__name__)\n",
    "\n",
    "plt.xlabel('Время')\n",
    "plt.ylabel('Популяция')\n",
    "plt.grid('off')\n",
    "plt.legend()\n",
    "plt.show()"
   ]
  }
 ],
 "metadata": {
  "kernelspec": {
   "display_name": "Python 3",
   "language": "python",
   "name": "python3"
  },
  "language_info": {
   "codemirror_mode": {
    "name": "ipython",
    "version": 3
   },
   "file_extension": ".py",
   "mimetype": "text/x-python",
   "name": "python",
   "nbconvert_exporter": "python",
   "pygments_lexer": "ipython3",
   "version": "3.7.6"
  }
 },
 "nbformat": 4,
 "nbformat_minor": 4
}
