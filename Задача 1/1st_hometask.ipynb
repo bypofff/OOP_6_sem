{
 "cells": [
  {
   "cell_type": "markdown",
   "metadata": {},
   "source": [
    "## Первое задание по курсу ООП\n",
    "\n",
    "### Определение и использование классов"
   ]
  },
  {
   "cell_type": "markdown",
   "metadata": {},
   "source": [
    "### Определение классов\n",
    "\n",
    "#### Создать иерархию классов"
   ]
  },
  {
   "cell_type": "code",
   "execution_count": 14,
   "metadata": {},
   "outputs": [],
   "source": [
    "# Создаём класс гражданина РФ со всеми полями класса\n",
    "\n",
    "class Citizen:\n",
    "    def __init__(self):\n",
    "        print('Создан объект класса - ' + self.__class__.__name__)\n",
    "        \n",
    "    # Сеттеры\n",
    "    def SetName(self, name):\n",
    "        self._name = name\n",
    "        \n",
    "    def SetSurname(self, surname):\n",
    "        self._surname = surname\n",
    "        \n",
    "    def SetNationality(self, nationality):\n",
    "        self._nationality = nationality\n",
    "        \n",
    "    def SetRegistration(self, registration):\n",
    "        self._registration = registration\n",
    "        \n",
    "    #Геттеры    \n",
    "    def GetName(self):\n",
    "        return self._name\n",
    "    \n",
    "    def GetSurname(self):\n",
    "        return self._surname\n",
    "        \n",
    "    def GetNationality(self):\n",
    "        return self._nationality\n",
    "        \n",
    "    def GetRegistration(self):\n",
    "        return self._registration"
   ]
  },
  {
   "cell_type": "code",
   "execution_count": 15,
   "metadata": {},
   "outputs": [
    {
     "name": "stdout",
     "output_type": "stream",
     "text": [
      "Создан объект класса - Citizen\n",
      "('Ivan', 'Ivanov', 'Russian', 'Belarus')\n"
     ]
    }
   ],
   "source": [
    "citizen_1 = Citizen()\n",
    "citizen_1.SetName('Ivan')\n",
    "citizen_1.SetSurname('Ivanov')\n",
    "citizen_1.SetNationality('Russian')\n",
    "citizen_1.SetRegistration('Belarus')\n",
    "\n",
    "print(citizen_1.GetName(), citizen_1.GetSurname(), citizen_1.GetNationality(), citizen_1.GetRegistration())"
   ]
  },
  {
   "cell_type": "code",
   "execution_count": 16,
   "metadata": {},
   "outputs": [],
   "source": [
    "# Создаём класс Рабочего с полями родителя(Гражданина РФ), а также с добавлением 3-х новых полей\n",
    "\n",
    "class Worker(Citizen):\n",
    "    \n",
    "    # добавляем новые методы\n",
    "    def SetCompanyName(self, companyName):\n",
    "        self._companyName = companyName\n",
    "        \n",
    "    def SetCompanyAddress(self, companyAddress):\n",
    "        self._companyAddress = companyAddress\n",
    "        \n",
    "    def SetWorkPhone(self, workPhone):\n",
    "        self._workPhone = workPhone\n",
    "        \n",
    "        \n",
    "    def GetCompanyName(self):\n",
    "        return self._companyName\n",
    "    \n",
    "    def GetCompanyAddress(self):\n",
    "        return self._companyAddress\n",
    "    \n",
    "    def GetWorkPhone(self):\n",
    "        return self._workPhone"
   ]
  },
  {
   "cell_type": "code",
   "execution_count": 19,
   "metadata": {},
   "outputs": [
    {
     "name": "stdout",
     "output_type": "stream",
     "text": [
      "Создан объект класса - Worker\n",
      "('Sergey', 'Petrov', 'Ukranian', 'Russia', 'Yandex', 'Moscow, XYZ street, 8', '7-777-777-77-77')\n"
     ]
    }
   ],
   "source": [
    "worker_1 = Worker()\n",
    "worker_1.SetName('Sergey')\n",
    "worker_1.SetSurname('Petrov')\n",
    "worker_1.SetNationality('Ukranian')\n",
    "worker_1.SetRegistration('Russia')\n",
    "\n",
    "worker_1.SetCompanyName('Yandex')\n",
    "worker_1.SetCompanyAddress('Moscow, XYZ street, 8')\n",
    "worker_1.SetWorkPhone('7-777-777-77-77')\n",
    "\n",
    "print(worker_1.GetName(), worker_1.GetSurname(), worker_1.GetNationality(), worker_1.GetRegistration(), \n",
    "      worker_1.GetCompanyName(), worker_1.GetCompanyAddress(), worker_1.GetWorkPhone())"
   ]
  },
  {
   "cell_type": "code",
   "execution_count": 24,
   "metadata": {},
   "outputs": [],
   "source": [
    "# Создаём класс Учёного с полями родителя(Рабочего), а также с добавлением 3-х новых полей\n",
    "\n",
    "class Scientist(Worker):\n",
    "    \n",
    "    # опять же добавляем новые методы\n",
    "    def SetScientificField(self, scifield):\n",
    "        self._scifield = scifield\n",
    "        \n",
    "    def SetTypeOfScientist(self, scitype):\n",
    "        self._scitype = scitype\n",
    "        \n",
    "    def SetNumOfPublication(self, pubnum):\n",
    "        self._pubnum = pubnum\n",
    "        \n",
    "        \n",
    "    def GetScientificField(self):\n",
    "        return self._scifield\n",
    "        \n",
    "    def GetTypeOfScientist(self):\n",
    "        return self._scitype\n",
    "        \n",
    "    def GetNumOfPublication(self):\n",
    "        return self._pubnum\n",
    "        "
   ]
  },
  {
   "cell_type": "code",
   "execution_count": 25,
   "metadata": {},
   "outputs": [],
   "source": [
    "# Без теста создаём сразу ещё три дочерних класса\n",
    "\n",
    "# Класс магистра\n",
    "class Magister(Scientist):\n",
    "    pass\n",
    "\n",
    "# Класс кандидата наук\n",
    "class CandidateOfSciences(Scientist):\n",
    "    pass\n",
    "\n",
    "# Класс доктора наук\n",
    "class DoctorOfSciences(Scientist):\n",
    "    pass"
   ]
  },
  {
   "cell_type": "markdown",
   "metadata": {},
   "source": [
    "### Использование классов\n",
    "\n",
    "#### Создать объекты классов Magister, CandidateOfScience, DoctorOfScience)"
   ]
  },
  {
   "cell_type": "code",
   "execution_count": 26,
   "metadata": {},
   "outputs": [
    {
     "name": "stdout",
     "output_type": "stream",
     "text": [
      "Создан объект класса - Magister\n",
      "Создан объект класса - CandidateOfSciences\n",
      "Создан объект класса - DoctorOfSciences\n"
     ]
    }
   ],
   "source": [
    "# Создадим объекты каждого требуемого класса\n",
    "\n",
    "magister = Magister()\n",
    "candofsci = CandidateOfSciences()\n",
    "docofsci = DoctorOfSciences()"
   ]
  },
  {
   "cell_type": "code",
   "execution_count": 33,
   "metadata": {},
   "outputs": [
    {
     "name": "stdout",
     "output_type": "stream",
     "text": [
      "Getters for magister: Evgeny; Pesnya; Ukranian; Russia; MIPT; Dolgoprudny; 0-000-000-00-00; math; theorist; 0\n"
     ]
    }
   ],
   "source": [
    "# Используем сеттреры и геттеры для каждого объекта\n",
    "\n",
    "# сеттеры для магистра\n",
    "magister.SetName('Evgeny')\n",
    "magister.SetSurname('Pesnya')\n",
    "magister.SetNationality('Ukranian')\n",
    "magister.SetRegistration('Russia')\n",
    "\n",
    "magister.SetCompanyName('MIPT')\n",
    "magister.SetCompanyAddress('Dolgoprudny')\n",
    "magister.SetWorkPhone('0-000-000-00-00')\n",
    "\n",
    "magister.SetScientificField('math')\n",
    "magister.SetTypeOfScientist('theorist')\n",
    "magister.SetNumOfPublication('0')\n",
    "\n",
    "\n",
    "# геттеры для магистра\n",
    "print('Getters for magister: ' + magister.GetName() + '; ' + magister.GetSurname() + '; ' + \n",
    "     magister.GetNationality() + '; ' + magister.GetRegistration() + '; ' + magister.GetCompanyName() + '; ' +\n",
    "     magister.GetCompanyAddress() + '; ' + magister.GetWorkPhone() + '; ' + magister.GetScientificField() + '; ' +\n",
    "     magister.GetTypeOfScientist() + '; ' + magister.GetNumOfPublication())\n"
   ]
  },
  {
   "cell_type": "code",
   "execution_count": 34,
   "metadata": {},
   "outputs": [
    {
     "name": "stdout",
     "output_type": "stream",
     "text": [
      "Getters for candidate of sciences: Alex; Bykov; Russian; Russia; Yandex; Moscow; 0-000-000-00-00; physiсist; calculator; 3\n"
     ]
    }
   ],
   "source": [
    "# сеттеры для кандидата наук\n",
    "candofsci.SetName('Alex')\n",
    "candofsci.SetSurname('Bykov')\n",
    "candofsci.SetNationality('Russian')\n",
    "candofsci.SetRegistration('Russia')\n",
    "\n",
    "candofsci.SetCompanyName('Yandex')\n",
    "candofsci.SetCompanyAddress('Moscow')\n",
    "candofsci.SetWorkPhone('0-000-000-00-00')\n",
    "\n",
    "candofsci.SetScientificField('physiсs')\n",
    "candofsci.SetTypeOfScientist('calculator')\n",
    "candofsci.SetNumOfPublication('3')\n",
    "\n",
    "\n",
    "# геттеры для кандидата наук\n",
    "print('Getters for candidate of sciences: ' + candofsci.GetName() + '; ' + candofsci.GetSurname() + '; ' + \n",
    "     candofsci.GetNationality() + '; ' + candofsci.GetRegistration() + '; ' + candofsci.GetCompanyName() + '; ' +\n",
    "     candofsci.GetCompanyAddress() + '; ' + candofsci.GetWorkPhone() + '; ' + candofsci.GetScientificField() + '; ' +\n",
    "     candofsci.GetTypeOfScientist() + '; ' + candofsci.GetNumOfPublication())"
   ]
  },
  {
   "cell_type": "code",
   "execution_count": 36,
   "metadata": {},
   "outputs": [
    {
     "name": "stdout",
     "output_type": "stream",
     "text": [
      "Getters for doctor of sciences: Vitaly; Leontiev; Belorussian; Russia; MailRU; Moscow; 0-000-000-00-00; chemestry; experimenter; 9\n"
     ]
    }
   ],
   "source": [
    "# сеттеры для доктора наук\n",
    "docofsci.SetName('Vitaly')\n",
    "docofsci.SetSurname('Leontiev')\n",
    "docofsci.SetNationality('Belorussian')\n",
    "docofsci.SetRegistration('Russia')\n",
    "\n",
    "docofsci.SetCompanyName('MailRU')\n",
    "docofsci.SetCompanyAddress('Moscow')\n",
    "docofsci.SetWorkPhone('0-000-000-00-00')\n",
    "\n",
    "docofsci.SetScientificField('chemestry')\n",
    "docofsci.SetTypeOfScientist('experimenter')\n",
    "docofsci.SetNumOfPublication('9')\n",
    "\n",
    "\n",
    "# геттеры для доктора наук\n",
    "print('Getters for doctor of sciences: ' + docofsci.GetName() + '; ' + docofsci.GetSurname() + '; ' + \n",
    "     docofsci.GetNationality() + '; ' + docofsci.GetRegistration() + '; ' + docofsci.GetCompanyName() + '; ' +\n",
    "     docofsci.GetCompanyAddress() + '; ' + docofsci.GetWorkPhone() + '; ' + docofsci.GetScientificField() + '; ' +\n",
    "     docofsci.GetTypeOfScientist() + '; ' + docofsci.GetNumOfPublication())"
   ]
  }
 ],
 "metadata": {
  "kernelspec": {
   "display_name": "Python 3",
   "language": "python",
   "name": "python3"
  },
  "language_info": {
   "codemirror_mode": {
    "name": "ipython",
    "version": 2
   },
   "file_extension": ".py",
   "mimetype": "text/x-python",
   "name": "python",
   "nbconvert_exporter": "python",
   "pygments_lexer": "ipython2",
   "version": "2.7.16"
  }
 },
 "nbformat": 4,
 "nbformat_minor": 2
}
