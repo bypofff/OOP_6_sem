{
 "cells": [
  {
   "cell_type": "markdown",
   "metadata": {},
   "source": [
    "# Задача 6\n",
    "\n",
    "## Численное решение УрЧП"
   ]
  },
  {
   "cell_type": "code",
   "execution_count": 1,
   "metadata": {},
   "outputs": [],
   "source": [
    "import numpy as np\n",
    "import matplotlib.pyplot as plt"
   ]
  },
  {
   "cell_type": "markdown",
   "metadata": {},
   "source": [
    "### Определение классов"
   ]
  },
  {
   "cell_type": "code",
   "execution_count": 2,
   "metadata": {},
   "outputs": [],
   "source": [
    "# переопределение Main-класса из 5-й задачи\n",
    "\n",
    "class MainSolve():\n",
    "    \n",
    "    def __init__(self, f, u_0, x_start, x_end, h, t_start, t_end, dt):\n",
    "        # определение вектор-функции и начального условия\n",
    "        self.f = f\n",
    "        self.u_0 = u_0\n",
    "        \n",
    "        # определение параметров сетки по времени\n",
    "        self.dt = dt\n",
    "        self.t_start = float(t_start)\n",
    "        self.t_end = float(t_end)\n",
    "        self.t_num_blocks = int((float(t_end) - float(t_start)) / dt)\n",
    "        self.t_num_points = self.t_num_blocks + 1\n",
    "        \n",
    "        # определение параметров сетки по пространству\n",
    "        self.h = h\n",
    "        self.x_start = float(x_start)\n",
    "        self.x_end = float(x_end)\n",
    "        self.x_num_blocks = int((float(x_end) - float(x_start)) / h)\n",
    "        self.x_num_points = self.x_num_blocks + 1\n",
    "        \n",
    "        # задаём массивы для решения и сеток по времени и пространству\n",
    "        self.solution_arr = np.zeros((self.t_num_points, self.x_num_points)) # двумерный массив\n",
    "        self.time_arr = np.linspace(t_start, t_end, self.t_num_points)\n",
    "        self.space_arr = np.linspace(x_start, x_end, self.x_num_points)\n",
    "                \n",
    "    \n",
    "    def solve(self):\n",
    "        self.solution_arr[0] = self.u_0(self.space_arr)\n",
    "\n",
    "        for i in range(self.t_num_blocks):\n",
    "            u_old = self.solution_arr[i]                \n",
    "            self.solution_arr[i + 1] = u_old + self.dt * np.dot(self.b, self.k(u_old))\n",
    "\n",
    "            \n",
    "    def k(self, u_i):\n",
    "        k = np.zeros((len(self.b), len(u_i)))\n",
    "        k[0] = self.f(u_i)\n",
    "        for i in range(len(k) - 1):\n",
    "            k[i + 1] = self.f(u_i + self.dt * np.dot(self.a[i + 1, :], k))\n",
    "        return k"
   ]
  },
  {
   "cell_type": "markdown",
   "metadata": {},
   "source": [
    "#### Задаём дочерние классы"
   ]
  },
  {
   "cell_type": "code",
   "execution_count": 3,
   "metadata": {},
   "outputs": [],
   "source": [
    "# метод Эйлера\n",
    "# меняются только входные данные для коструктора класса, если сравнивать с 5-й задачей\n",
    "\n",
    "class ExplicitEuler(MainSolve):\n",
    "\n",
    "    def __init__(self, f, u_0, x_start, x_end, h, t_start, t_end, dt):\n",
    "        super().__init__(f, u_0, x_start, x_end, h, t_start, t_end, dt)\n",
    "        self.a = np.array([0])\n",
    "        self.b = np.array([1])"
   ]
  },
  {
   "cell_type": "code",
   "execution_count": 4,
   "metadata": {},
   "outputs": [],
   "source": [
    "# метод Хойна\n",
    "\n",
    "class Heun(MainSolve):\n",
    "\n",
    "    def __init__(self, f, u_0, x_start, x_end, h, t_start, t_end, dt):\n",
    "        super().__init__(f, u_0, x_start, x_end, h, t_start, t_end, dt)\n",
    "        self.a = np.array([[0, 0], [1, 0]])\n",
    "        self.b = np.array([1/2, 1/2])"
   ]
  },
  {
   "cell_type": "code",
   "execution_count": 5,
   "metadata": {},
   "outputs": [],
   "source": [
    "# метод Рунге - Кутты\n",
    "\n",
    "class RunKut(MainSolve):\n",
    "    \n",
    "    def __init__(self, f, u_0, x_start, x_end, h, t_start, t_end, dt):\n",
    "        super().__init__(f, u_0, x_start, x_end, h, t_start, t_end, dt)\n",
    "        self.a = np.array([\n",
    "            [  0,   0,   0,   0],\n",
    "            [1/2,   0,   0,   0],\n",
    "            [  0, 1/2,   0,   0],\n",
    "            [  0,   0,   1,   0]\n",
    "            ])\n",
    "        self.b = np.array([1/6, 1/3, 1/3, 1/6])"
   ]
  },
  {
   "cell_type": "code",
   "execution_count": 6,
   "metadata": {},
   "outputs": [],
   "source": [
    "# класс для функтора правой части\n",
    "\n",
    "class RightHandSide:\n",
    "    \n",
    "    def __init__(self, k, h, left, right):\n",
    "        self._k = float(k)\n",
    "        self._h = float(h)\n",
    "        self._l = float(left)\n",
    "        self._r = float(right)\n",
    "    \n",
    "    def __call__(self, u):\n",
    "        F = np.zeros(len(u))\n",
    "        F[0], F[-1] = self._l, self._r\n",
    "        A = np.zeros((len(u), len(u)))\n",
    "        np.fill_diagonal(A, -2)\n",
    "        np.fill_diagonal(A[1:], 1)\n",
    "        np.fill_diagonal(A[:, 1:], 1)\n",
    "        return (self._k / self._h ** 2) * (A @ u + F)"
   ]
  },
  {
   "cell_type": "markdown",
   "metadata": {},
   "source": [
    "### Использование классов"
   ]
  },
  {
   "cell_type": "code",
   "execution_count": 16,
   "metadata": {},
   "outputs": [],
   "source": [
    "methods_class = [ExplicitEuler, Heun, RunKut]\n",
    "\n",
    "k = 0.1\n",
    "h = 1/25\n",
    "dt = h**2 / (200 * k)\n",
    "\n",
    "rhs = RightHandSide(k, h, left=0, right=0)"
   ]
  },
  {
   "cell_type": "code",
   "execution_count": 17,
   "metadata": {},
   "outputs": [],
   "source": [
    "def u_0(x):\n",
    "    ans = np.zeros(len(x))\n",
    "    for i in range(len(x)):\n",
    "        if 0.4 <= x[i] <= 0.6:\n",
    "            ans[i] = 1\n",
    "        elif 0 < x[i] < 0.4 and 0.6 < i < 1: \n",
    "            ans[i] = 0\n",
    "\n",
    "    return ans"
   ]
  },
  {
   "cell_type": "code",
   "execution_count": 18,
   "metadata": {},
   "outputs": [
    {
     "data": {
      "image/png": "[encoded data removed]",
      "text/plain": [
       "<Figure size 1152x576 with 1 Axes>"
      ]
     },
     "metadata": {
      "needs_background": "light"
     },
     "output_type": "display_data"
    }
   ],
   "source": [
    "plt.figure(figsize=(16,8))\n",
    "\n",
    "for method in methods_class:\n",
    "        meth = method(f=rhs, u_0=u_0, x_start=0, x_end=1, h=h, t_start=0, t_end=0.04, dt=dt)    \n",
    "        meth.solve()\n",
    "        plt.plot(meth.space_arr, +meth.solution_arr[-1], '-o', linewidth=2, label=meth.__class__.__name__)\n",
    "        \n",
    "plt.grid('off')\n",
    "plt.legend(loc='best')\n",
    "plt.show()"
   ]
  }
 ],
 "metadata": {
  "kernelspec": {
   "display_name": "Python 3",
   "language": "python",
   "name": "python3"
  },
  "language_info": {
   "codemirror_mode": {
    "name": "ipython",
    "version": 3
   },
   "file_extension": ".py",
   "mimetype": "text/x-python",
   "name": "python",
   "nbconvert_exporter": "python",
   "pygments_lexer": "ipython3",
   "version": "3.7.6"
  }
 },
 "nbformat": 4,
 "nbformat_minor": 4
}
